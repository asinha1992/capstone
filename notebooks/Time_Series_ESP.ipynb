{
 "cells": [
  {
   "cell_type": "code",
   "execution_count": 13,
   "id": "5a06fd23",
   "metadata": {},
   "outputs": [],
   "source": [
    "import pandas as pd\n",
    "import numpy as np\n",
    "import datetime as dt"
   ]
  },
  {
   "cell_type": "code",
   "execution_count": 8,
   "id": "899f4bac",
   "metadata": {},
   "outputs": [],
   "source": [
    "df = pd.read_csv('../data/esp_20min_format.csv')"
   ]
  },
  {
   "cell_type": "code",
   "execution_count": 9,
   "id": "848ca7aa",
   "metadata": {},
   "outputs": [
    {
     "data": {
      "text/plain": [
       "Index(['tblock', 'Average.Amps', 'Discharge.Pressure', 'Drive.Frequency',\n",
       "       'Drive.Run.Hours', 'Intake.Pressure', 'Active.Current.Leakage',\n",
       "       'VSD.Current', 'Full.Scale.Current', 'Zero.Current', 'Input.Voltage',\n",
       "       'Intake.Temperature', 'Motor.Temperature', 'Output.Voltage',\n",
       "       'Vibration', 'well'],\n",
       "      dtype='object')"
      ]
     },
     "execution_count": 9,
     "metadata": {},
     "output_type": "execute_result"
    }
   ],
   "source": [
    "df.columns"
   ]
  },
  {
   "cell_type": "code",
   "execution_count": 10,
   "id": "47f953a8",
   "metadata": {},
   "outputs": [
    {
     "data": {
      "text/plain": [
       "Index(['timestamp', 'average_amps', 'discharge_pressure', 'drive_frequency',\n",
       "       'drive_run_hours', 'intake_pressure', 'active_current_leakage',\n",
       "       'vsd_current', 'full_scale_current', 'zero_current', 'input_voltage',\n",
       "       'intake_temperature', 'motor_temperature', 'output_voltage',\n",
       "       'vibration', 'well'],\n",
       "      dtype='object')"
      ]
     },
     "execution_count": 10,
     "metadata": {},
     "output_type": "execute_result"
    }
   ],
   "source": [
    "df = df.rename(columns={'tblock':'timestamp', 'Average.Amps':'average_amps',                        \n",
    "                        'Discharge.Pressure':'discharge_pressure', 'Drive.Frequency':'drive_frequency',\n",
    "                        'Drive.Frequency':'drive_frequency', 'Drive.Run.Hours':'drive_run_hours',\n",
    "                        'Intake.Pressure':'intake_pressure', 'Active.Current.Leakage':'active_current_leakage',\n",
    "                        'VSD.Current':'vsd_current','Full.Scale.Current':'full_scale_current', \n",
    "                        'Zero.Current':'zero_current', 'Input.Voltage':'input_voltage',\n",
    "                        'Intake.Temperature':'intake_temperature','Motor.Temperature':'motor_temperature',\n",
    "                        'Output.Voltage':'output_voltage','Vibration':'vibration',\n",
    "                        'well':'well'\n",
    "                      })\n",
    "df.columns"
   ]
  },
  {
   "cell_type": "code",
   "execution_count": 12,
   "id": "4939c0b9",
   "metadata": {},
   "outputs": [
    {
     "data": {
      "text/plain": [
       "timestamp                  object\n",
       "average_amps              float64\n",
       "discharge_pressure        float64\n",
       "drive_frequency           float64\n",
       "drive_run_hours           float64\n",
       "intake_pressure           float64\n",
       "active_current_leakage    float64\n",
       "vsd_current               float64\n",
       "full_scale_current        float64\n",
       "zero_current              float64\n",
       "input_voltage             float64\n",
       "intake_temperature        float64\n",
       "motor_temperature         float64\n",
       "output_voltage            float64\n",
       "vibration                 float64\n",
       "well                       object\n",
       "dtype: object"
      ]
     },
     "execution_count": 12,
     "metadata": {},
     "output_type": "execute_result"
    }
   ],
   "source": [
    "df.dtypes"
   ]
  },
  {
   "cell_type": "code",
   "execution_count": 15,
   "id": "cb7fd774",
   "metadata": {},
   "outputs": [],
   "source": [
    "df['timestamp'] = pd.to_datetime(df['timestamp'])"
   ]
  },
  {
   "cell_type": "code",
   "execution_count": 16,
   "id": "4e90800f",
   "metadata": {},
   "outputs": [
    {
     "data": {
      "text/plain": [
       "timestamp                 datetime64[ns]\n",
       "average_amps                     float64\n",
       "discharge_pressure               float64\n",
       "drive_frequency                  float64\n",
       "drive_run_hours                  float64\n",
       "intake_pressure                  float64\n",
       "active_current_leakage           float64\n",
       "vsd_current                      float64\n",
       "full_scale_current               float64\n",
       "zero_current                     float64\n",
       "input_voltage                    float64\n",
       "intake_temperature               float64\n",
       "motor_temperature                float64\n",
       "output_voltage                   float64\n",
       "vibration                        float64\n",
       "well                              object\n",
       "dtype: object"
      ]
     },
     "execution_count": 16,
     "metadata": {},
     "output_type": "execute_result"
    }
   ],
   "source": [
    "df.dtypes"
   ]
  },
  {
   "cell_type": "code",
   "execution_count": 19,
   "id": "910439cd",
   "metadata": {},
   "outputs": [],
   "source": [
    "import plotly.express as px\n",
    "import plotly.io as pio\n",
    "pio.renderers.default = 'browser'\n",
    "fig = px.line(df, x='timestamp', y= 'average_amps', color='well', line_shape='spline', \n",
    "              render_mode= 'svg')\n",
    "# fig.show()\n",
    "pio.show(fig)"
   ]
  },
  {
   "cell_type": "code",
   "execution_count": null,
   "id": "643b7104",
   "metadata": {},
   "outputs": [],
   "source": []
  }
 ],
 "metadata": {
  "kernelspec": {
   "display_name": "Python 3 (ipykernel)",
   "language": "python",
   "name": "python3"
  },
  "language_info": {
   "codemirror_mode": {
    "name": "ipython",
    "version": 3
   },
   "file_extension": ".py",
   "mimetype": "text/x-python",
   "name": "python",
   "nbconvert_exporter": "python",
   "pygments_lexer": "ipython3",
   "version": "3.8.12"
  },
  "toc": {
   "base_numbering": 1,
   "nav_menu": {},
   "number_sections": true,
   "sideBar": true,
   "skip_h1_title": false,
   "title_cell": "Table of Contents",
   "title_sidebar": "Contents",
   "toc_cell": false,
   "toc_position": {},
   "toc_section_display": true,
   "toc_window_display": false
  }
 },
 "nbformat": 4,
 "nbformat_minor": 5
}
