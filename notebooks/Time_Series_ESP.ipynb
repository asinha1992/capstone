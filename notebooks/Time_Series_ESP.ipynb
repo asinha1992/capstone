{
 "cells": [
  {
   "cell_type": "code",
   "execution_count": 1,
   "id": "5a06fd23",
   "metadata": {},
   "outputs": [],
   "source": [
    "import pandas as pd\n",
    "import numpy as np\n",
    "import datetime as dt"
   ]
  },
  {
   "cell_type": "code",
   "execution_count": 2,
   "id": "899f4bac",
   "metadata": {},
   "outputs": [],
   "source": [
    "df = pd.read_csv('../data/esp_20min_format.csv')"
   ]
  },
  {
   "cell_type": "code",
   "execution_count": 3,
   "id": "848ca7aa",
   "metadata": {},
   "outputs": [
    {
     "data": {
      "text/plain": [
       "Index(['tblock', 'Average.Amps', 'Discharge.Pressure', 'Drive.Frequency',\n",
       "       'Drive.Run.Hours', 'Intake.Pressure', 'Active.Current.Leakage',\n",
       "       'VSD.Current', 'Full.Scale.Current', 'Zero.Current', 'Input.Voltage',\n",
       "       'Intake.Temperature', 'Motor.Temperature', 'Output.Voltage',\n",
       "       'Vibration', 'well'],\n",
       "      dtype='object')"
      ]
     },
     "execution_count": 3,
     "metadata": {},
     "output_type": "execute_result"
    }
   ],
   "source": [
    "df.columns"
   ]
  },
  {
   "cell_type": "code",
   "execution_count": 4,
   "id": "47f953a8",
   "metadata": {},
   "outputs": [
    {
     "data": {
      "text/plain": [
       "Index(['timestamp', 'average_amps', 'discharge_pressure', 'drive_frequency',\n",
       "       'drive_run_hours', 'intake_pressure', 'active_current_leakage',\n",
       "       'vsd_current', 'full_scale_current', 'zero_current', 'input_voltage',\n",
       "       'intake_temperature', 'motor_temperature', 'output_voltage',\n",
       "       'vibration', 'well'],\n",
       "      dtype='object')"
      ]
     },
     "execution_count": 4,
     "metadata": {},
     "output_type": "execute_result"
    }
   ],
   "source": [
    "df = df.rename(columns={'tblock':'timestamp', 'Average.Amps':'average_amps',                        \n",
    "                        'Discharge.Pressure':'discharge_pressure', 'Drive.Frequency':'drive_frequency',\n",
    "                        'Drive.Frequency':'drive_frequency', 'Drive.Run.Hours':'drive_run_hours',\n",
    "                        'Intake.Pressure':'intake_pressure', 'Active.Current.Leakage':'active_current_leakage',\n",
    "                        'VSD.Current':'vsd_current','Full.Scale.Current':'full_scale_current', \n",
    "                        'Zero.Current':'zero_current', 'Input.Voltage':'input_voltage',\n",
    "                        'Intake.Temperature':'intake_temperature','Motor.Temperature':'motor_temperature',\n",
    "                        'Output.Voltage':'output_voltage','Vibration':'vibration',\n",
    "                        'well':'well'\n",
    "                      })\n",
    "df.columns"
   ]
  },
  {
   "cell_type": "code",
   "execution_count": 5,
   "id": "4939c0b9",
   "metadata": {},
   "outputs": [
    {
     "data": {
      "text/plain": [
       "timestamp                  object\n",
       "average_amps              float64\n",
       "discharge_pressure        float64\n",
       "drive_frequency           float64\n",
       "drive_run_hours           float64\n",
       "intake_pressure           float64\n",
       "active_current_leakage    float64\n",
       "vsd_current               float64\n",
       "full_scale_current        float64\n",
       "zero_current              float64\n",
       "input_voltage             float64\n",
       "intake_temperature        float64\n",
       "motor_temperature         float64\n",
       "output_voltage            float64\n",
       "vibration                 float64\n",
       "well                       object\n",
       "dtype: object"
      ]
     },
     "execution_count": 5,
     "metadata": {},
     "output_type": "execute_result"
    }
   ],
   "source": [
    "df.dtypes"
   ]
  },
  {
   "cell_type": "code",
   "execution_count": 6,
   "id": "cb7fd774",
   "metadata": {},
   "outputs": [],
   "source": [
    "df['timestamp'] = pd.to_datetime(df['timestamp'])\n",
    "df = df.set_index('timestamp')"
   ]
  },
  {
   "cell_type": "code",
   "execution_count": 7,
   "id": "4e90800f",
   "metadata": {},
   "outputs": [
    {
     "data": {
      "text/plain": [
       "average_amps              float64\n",
       "discharge_pressure        float64\n",
       "drive_frequency           float64\n",
       "drive_run_hours           float64\n",
       "intake_pressure           float64\n",
       "active_current_leakage    float64\n",
       "vsd_current               float64\n",
       "full_scale_current        float64\n",
       "zero_current              float64\n",
       "input_voltage             float64\n",
       "intake_temperature        float64\n",
       "motor_temperature         float64\n",
       "output_voltage            float64\n",
       "vibration                 float64\n",
       "well                       object\n",
       "dtype: object"
      ]
     },
     "execution_count": 7,
     "metadata": {},
     "output_type": "execute_result"
    }
   ],
   "source": [
    "df.dtypes"
   ]
  },
  {
   "cell_type": "code",
   "execution_count": 8,
   "id": "910439cd",
   "metadata": {},
   "outputs": [],
   "source": [
    "import plotly.express as px\n",
    "import plotly.io as pio\n",
    "pio.renderers.default = 'browser'\n",
    "fig = px.line(df, x=df.index, y= 'average_amps', color='well', line_shape='spline', \n",
    "              render_mode= 'svg')\n",
    "# fig.show()\n",
    "pio.show(fig)"
   ]
  },
  {
   "cell_type": "code",
   "execution_count": 27,
   "id": "643b7104",
   "metadata": {},
   "outputs": [],
   "source": [
    "import plotly.express as px\n",
    "from plotly.offline import plot\n",
    "from plotly.subplots import make_subplots\n",
    "import plotly.graph_objects as go\n",
    "\n",
    "def plot_channels(df, well):\n",
    "    \n",
    "    df_channels = df[df['well']==well]\n",
    "    df_channels = df_channels.drop(columns=['well'])\n",
    "\n",
    "    n_subplots = len(df_channels.columns)\n",
    "    \n",
    "    fig = make_subplots(\n",
    "        rows = n_subplots,\n",
    "        cols = 1,\n",
    "        subplot_titles = df_channels.columns\n",
    "    )\n",
    "    r=1\n",
    "    for channel in df_channels.columns:\n",
    "#         import ipdb; ipdb.set_trace()\n",
    "        fig.add_trace(go.Scatter(x = df_channels.index, y = df_channels[channel],\n",
    "                                mode = 'lines', name = channel),\n",
    "                     row = r,\n",
    "                     col = 1)\n",
    "        r += 1\n",
    "    fig.update_layout(height=1800,title_text= well)\n",
    "    \n",
    "    fig.show()\n",
    "\n",
    "    \n",
    "#     channel_plot = px.line(df, x= 'timestamp', y= channel, color = '')\n",
    "\n",
    "plot_channels(df, 'Y12D')"
   ]
  },
  {
   "cell_type": "code",
   "execution_count": null,
   "id": "003e5198",
   "metadata": {},
   "outputs": [],
   "source": [
    "len(df.drop(columns=['well']).columns)"
   ]
  },
  {
   "cell_type": "code",
   "execution_count": 22,
   "id": "3f685e77",
   "metadata": {},
   "outputs": [],
   "source": [
    "import plotly.graph_objects as go\n",
    "\n",
    "df_channnels = df.drop(columns=['well'])\n",
    "\n",
    "fig = make_subplots(\n",
    "        rows = 2,\n",
    "        cols = 1,\n",
    "        subplot_titles = df_channnels.columns[0:2]\n",
    ")\n",
    "\n",
    "# for channel in df_channnels.columns:\n",
    "    \n",
    "fig.add_trace(go.Scatter(x= df_channnels.index, y= df_channnels[df_channnels.columns[0]], \n",
    "                         mode= 'lines', name = df_channnels.columns[0]),\n",
    "              row = 1, col = 1)\n",
    "\n",
    "fig.add_trace(go.Scatter(x= df_channnels.index, y= df_channnels[df_channnels.columns[1]], \n",
    "                         mode= 'lines', name = df_channnels.columns[1]),\n",
    "              row = 2, col = 1)\n",
    "# fig = px.line(df_channnels, x= df_channnels.index, y= df_channnels.columns[0])\n",
    "fig.show()"
   ]
  },
  {
   "cell_type": "code",
   "execution_count": 19,
   "id": "25d26f03",
   "metadata": {},
   "outputs": [
    {
     "ename": "InvalidIndexError",
     "evalue": "(slice(None, None, None), 0)",
     "output_type": "error",
     "traceback": [
      "\u001b[0;31m---------------------------------------------------------------------------\u001b[0m",
      "\u001b[0;31mTypeError\u001b[0m                                 Traceback (most recent call last)",
      "\u001b[0;32m~/.pyenv/versions/3.8.12/envs/lewagon/lib/python3.8/site-packages/pandas/core/indexes/base.py\u001b[0m in \u001b[0;36mget_loc\u001b[0;34m(self, key, method, tolerance)\u001b[0m\n\u001b[1;32m   3628\u001b[0m             \u001b[0;32mtry\u001b[0m\u001b[0;34m:\u001b[0m\u001b[0;34m\u001b[0m\u001b[0;34m\u001b[0m\u001b[0m\n\u001b[0;32m-> 3629\u001b[0;31m                 \u001b[0;32mreturn\u001b[0m \u001b[0mself\u001b[0m\u001b[0;34m.\u001b[0m\u001b[0m_engine\u001b[0m\u001b[0;34m.\u001b[0m\u001b[0mget_loc\u001b[0m\u001b[0;34m(\u001b[0m\u001b[0mcasted_key\u001b[0m\u001b[0;34m)\u001b[0m\u001b[0;34m\u001b[0m\u001b[0;34m\u001b[0m\u001b[0m\n\u001b[0m\u001b[1;32m   3630\u001b[0m             \u001b[0;32mexcept\u001b[0m \u001b[0mKeyError\u001b[0m \u001b[0;32mas\u001b[0m \u001b[0merr\u001b[0m\u001b[0;34m:\u001b[0m\u001b[0;34m\u001b[0m\u001b[0;34m\u001b[0m\u001b[0m\n",
      "\u001b[0;32m~/.pyenv/versions/3.8.12/envs/lewagon/lib/python3.8/site-packages/pandas/_libs/index.pyx\u001b[0m in \u001b[0;36mpandas._libs.index.IndexEngine.get_loc\u001b[0;34m()\u001b[0m\n",
      "\u001b[0;32m~/.pyenv/versions/3.8.12/envs/lewagon/lib/python3.8/site-packages/pandas/_libs/index.pyx\u001b[0m in \u001b[0;36mpandas._libs.index.IndexEngine.get_loc\u001b[0;34m()\u001b[0m\n",
      "\u001b[0;31mTypeError\u001b[0m: '(slice(None, None, None), 0)' is an invalid key",
      "\nDuring handling of the above exception, another exception occurred:\n",
      "\u001b[0;31mInvalidIndexError\u001b[0m                         Traceback (most recent call last)",
      "\u001b[0;32m/tmp/ipykernel_12124/3928591254.py\u001b[0m in \u001b[0;36m<module>\u001b[0;34m\u001b[0m\n\u001b[0;32m----> 1\u001b[0;31m \u001b[0mdf_channnels\u001b[0m\u001b[0;34m[\u001b[0m\u001b[0;34m:\u001b[0m\u001b[0;34m,\u001b[0m\u001b[0;36m0\u001b[0m\u001b[0;34m]\u001b[0m\u001b[0;34m\u001b[0m\u001b[0;34m\u001b[0m\u001b[0m\n\u001b[0m",
      "\u001b[0;32m~/.pyenv/versions/3.8.12/envs/lewagon/lib/python3.8/site-packages/pandas/core/frame.py\u001b[0m in \u001b[0;36m__getitem__\u001b[0;34m(self, key)\u001b[0m\n\u001b[1;32m   3503\u001b[0m             \u001b[0;32mif\u001b[0m \u001b[0mself\u001b[0m\u001b[0;34m.\u001b[0m\u001b[0mcolumns\u001b[0m\u001b[0;34m.\u001b[0m\u001b[0mnlevels\u001b[0m \u001b[0;34m>\u001b[0m \u001b[0;36m1\u001b[0m\u001b[0;34m:\u001b[0m\u001b[0;34m\u001b[0m\u001b[0;34m\u001b[0m\u001b[0m\n\u001b[1;32m   3504\u001b[0m                 \u001b[0;32mreturn\u001b[0m \u001b[0mself\u001b[0m\u001b[0;34m.\u001b[0m\u001b[0m_getitem_multilevel\u001b[0m\u001b[0;34m(\u001b[0m\u001b[0mkey\u001b[0m\u001b[0;34m)\u001b[0m\u001b[0;34m\u001b[0m\u001b[0;34m\u001b[0m\u001b[0m\n\u001b[0;32m-> 3505\u001b[0;31m             \u001b[0mindexer\u001b[0m \u001b[0;34m=\u001b[0m \u001b[0mself\u001b[0m\u001b[0;34m.\u001b[0m\u001b[0mcolumns\u001b[0m\u001b[0;34m.\u001b[0m\u001b[0mget_loc\u001b[0m\u001b[0;34m(\u001b[0m\u001b[0mkey\u001b[0m\u001b[0;34m)\u001b[0m\u001b[0;34m\u001b[0m\u001b[0;34m\u001b[0m\u001b[0m\n\u001b[0m\u001b[1;32m   3506\u001b[0m             \u001b[0;32mif\u001b[0m \u001b[0mis_integer\u001b[0m\u001b[0;34m(\u001b[0m\u001b[0mindexer\u001b[0m\u001b[0;34m)\u001b[0m\u001b[0;34m:\u001b[0m\u001b[0;34m\u001b[0m\u001b[0;34m\u001b[0m\u001b[0m\n\u001b[1;32m   3507\u001b[0m                 \u001b[0mindexer\u001b[0m \u001b[0;34m=\u001b[0m \u001b[0;34m[\u001b[0m\u001b[0mindexer\u001b[0m\u001b[0;34m]\u001b[0m\u001b[0;34m\u001b[0m\u001b[0;34m\u001b[0m\u001b[0m\n",
      "\u001b[0;32m~/.pyenv/versions/3.8.12/envs/lewagon/lib/python3.8/site-packages/pandas/core/indexes/base.py\u001b[0m in \u001b[0;36mget_loc\u001b[0;34m(self, key, method, tolerance)\u001b[0m\n\u001b[1;32m   3634\u001b[0m                 \u001b[0;31m#  InvalidIndexError. Otherwise we fall through and re-raise\u001b[0m\u001b[0;34m\u001b[0m\u001b[0;34m\u001b[0m\u001b[0;34m\u001b[0m\u001b[0m\n\u001b[1;32m   3635\u001b[0m                 \u001b[0;31m#  the TypeError.\u001b[0m\u001b[0;34m\u001b[0m\u001b[0;34m\u001b[0m\u001b[0;34m\u001b[0m\u001b[0m\n\u001b[0;32m-> 3636\u001b[0;31m                 \u001b[0mself\u001b[0m\u001b[0;34m.\u001b[0m\u001b[0m_check_indexing_error\u001b[0m\u001b[0;34m(\u001b[0m\u001b[0mkey\u001b[0m\u001b[0;34m)\u001b[0m\u001b[0;34m\u001b[0m\u001b[0;34m\u001b[0m\u001b[0m\n\u001b[0m\u001b[1;32m   3637\u001b[0m                 \u001b[0;32mraise\u001b[0m\u001b[0;34m\u001b[0m\u001b[0;34m\u001b[0m\u001b[0m\n\u001b[1;32m   3638\u001b[0m \u001b[0;34m\u001b[0m\u001b[0m\n",
      "\u001b[0;32m~/.pyenv/versions/3.8.12/envs/lewagon/lib/python3.8/site-packages/pandas/core/indexes/base.py\u001b[0m in \u001b[0;36m_check_indexing_error\u001b[0;34m(self, key)\u001b[0m\n\u001b[1;32m   5649\u001b[0m             \u001b[0;31m# if key is not a scalar, directly raise an error (the code below\u001b[0m\u001b[0;34m\u001b[0m\u001b[0;34m\u001b[0m\u001b[0;34m\u001b[0m\u001b[0m\n\u001b[1;32m   5650\u001b[0m             \u001b[0;31m# would convert to numpy arrays and raise later any way) - GH29926\u001b[0m\u001b[0;34m\u001b[0m\u001b[0;34m\u001b[0m\u001b[0;34m\u001b[0m\u001b[0m\n\u001b[0;32m-> 5651\u001b[0;31m             \u001b[0;32mraise\u001b[0m \u001b[0mInvalidIndexError\u001b[0m\u001b[0;34m(\u001b[0m\u001b[0mkey\u001b[0m\u001b[0;34m)\u001b[0m\u001b[0;34m\u001b[0m\u001b[0;34m\u001b[0m\u001b[0m\n\u001b[0m\u001b[1;32m   5652\u001b[0m \u001b[0;34m\u001b[0m\u001b[0m\n\u001b[1;32m   5653\u001b[0m     \u001b[0;34m@\u001b[0m\u001b[0mcache_readonly\u001b[0m\u001b[0;34m\u001b[0m\u001b[0;34m\u001b[0m\u001b[0m\n",
      "\u001b[0;31mInvalidIndexError\u001b[0m: (slice(None, None, None), 0)"
     ]
    }
   ],
   "source": [
    "df_channnels[]"
   ]
  },
  {
   "cell_type": "code",
   "execution_count": null,
   "id": "7ce304ae",
   "metadata": {},
   "outputs": [],
   "source": []
  }
 ],
 "metadata": {
  "kernelspec": {
   "display_name": "Python 3 (ipykernel)",
   "language": "python",
   "name": "python3"
  },
  "language_info": {
   "codemirror_mode": {
    "name": "ipython",
    "version": 3
   },
   "file_extension": ".py",
   "mimetype": "text/x-python",
   "name": "python",
   "nbconvert_exporter": "python",
   "pygments_lexer": "ipython3",
   "version": "3.8.12"
  },
  "toc": {
   "base_numbering": 1,
   "nav_menu": {},
   "number_sections": true,
   "sideBar": true,
   "skip_h1_title": false,
   "title_cell": "Table of Contents",
   "title_sidebar": "Contents",
   "toc_cell": false,
   "toc_position": {},
   "toc_section_display": true,
   "toc_window_display": false
  }
 },
 "nbformat": 4,
 "nbformat_minor": 5
}
